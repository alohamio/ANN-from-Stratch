{
 "cells": [
  {
   "cell_type": "code",
   "execution_count": 30,
   "id": "e6d91cb9",
   "metadata": {},
   "outputs": [],
   "source": [
    "import random\n",
    "import numpy as np\n",
    "import pandas as pd\n",
    "from sklearn.preprocessing import LabelEncoder, StandardScaler"
   ]
  },
  {
   "cell_type": "markdown",
   "id": "47003eee",
   "metadata": {},
   "source": [
    "# INITIALIZING HYPERPARAMETERES"
   ]
  },
  {
   "cell_type": "code",
   "execution_count": 2,
   "id": "a6e2e5af",
   "metadata": {},
   "outputs": [],
   "source": [
    "ALPHA = 0.0001\n",
    "NUM_EPOCHS = 10000\n",
    "BATCH_SIZE = 15"
   ]
  },
  {
   "cell_type": "code",
   "execution_count": 3,
   "id": "68f92022",
   "metadata": {},
   "outputs": [],
   "source": [
    "INPUT_DIM = 30\n",
    "OUT_DIM = 2\n",
    "H_DIM = 64"
   ]
  },
  {
   "cell_type": "markdown",
   "id": "24d13c45",
   "metadata": {},
   "source": [
    "# ACTIVATION FUNCTIONS AND THEIR DERIVATIVES"
   ]
  },
  {
   "cell_type": "code",
   "execution_count": 4,
   "id": "4ed040aa",
   "metadata": {},
   "outputs": [],
   "source": [
    "def relu(t):\n",
    "    return np.maximum(t, 0)\n",
    "\n",
    "\n",
    "def relu_deriv(t):\n",
    "    return (t >= 0).astype(float)\n",
    "\n",
    "def sigmoid(t):\n",
    "    return 1/(1+np.exp(-t))\n",
    "\n",
    "def sigmoid_deriv(t):\n",
    "    return sigmoid(t)*(1-sigmoid(t))\n",
    "\n",
    "def softmax(t):\n",
    "    out = np.exp(t)\n",
    "    return out / np.sum(out)\n",
    "\n",
    "def softmax_batch(t):\n",
    "    out = np.exp(t)\n",
    "    return out / np.sum(out, axis=1, keepdims=True)\n",
    "\n",
    "\n",
    "def sigmoid_batch(t):\n",
    "    return 1/(1+np.exp(-t))\n",
    "\n",
    "def tanh(x):\n",
    "    return np.tanh(x);\n",
    "\n",
    "def grad_tanh(x):\n",
    "    return 1 - np.tanh(x) ** 2;\n"
   ]
  },
  {
   "cell_type": "markdown",
   "id": "5fdb1fa6",
   "metadata": {},
   "source": [
    "# LOSS FUNCTIONS"
   ]
  },
  {
   "cell_type": "code",
   "execution_count": 5,
   "id": "f22357ca",
   "metadata": {},
   "outputs": [],
   "source": [
    "def sparse_cross_entropy(z, y):\n",
    "              return -np.log(z[0, y])\n",
    "\n",
    "def sparse_cross_entropy_batch(z, y):\n",
    "              return -np.log(np.array([z[j, y[j]] for j in range(len(y))]))\n",
    "    \n",
    "def mse(z, y):\n",
    "    return np.mean(np.power(z[0, y], 2));\n"
   ]
  },
  {
   "cell_type": "code",
   "execution_count": 6,
   "id": "476924aa",
   "metadata": {},
   "outputs": [],
   "source": [
    "#ONE HOT ENCODING Y \n",
    "def one_hot(y, num_classes):\n",
    "    y_full = np.zeros((1, num_classes))\n",
    "    y_full[0, y] = 1\n",
    "    return y_full\n",
    "\n",
    "def one_hot_batch(y, num_classes):\n",
    "    y_full = np.zeros((len(y), num_classes))\n",
    "    for j, yj in enumerate(y):\n",
    "        y_full[j, yj] = 1\n",
    "    return y_full\n"
   ]
  },
  {
   "cell_type": "markdown",
   "id": "20e2c335",
   "metadata": {},
   "source": [
    "# INITIALIZING DATASET"
   ]
  },
  {
   "cell_type": "code",
   "execution_count": 7,
   "id": "923154a2",
   "metadata": {},
   "outputs": [
    {
     "name": "stdout",
     "output_type": "stream",
     "text": [
      "<class 'pandas.core.frame.DataFrame'>\n",
      "RangeIndex: 569 entries, 0 to 568\n",
      "Data columns (total 32 columns):\n",
      " #   Column  Non-Null Count  Dtype  \n",
      "---  ------  --------------  -----  \n",
      " 0   0       569 non-null    int64  \n",
      " 1   1       569 non-null    object \n",
      " 2   2       569 non-null    float64\n",
      " 3   3       569 non-null    float64\n",
      " 4   4       569 non-null    float64\n",
      " 5   5       569 non-null    float64\n",
      " 6   6       569 non-null    float64\n",
      " 7   7       569 non-null    float64\n",
      " 8   8       569 non-null    float64\n",
      " 9   9       569 non-null    float64\n",
      " 10  10      569 non-null    float64\n",
      " 11  11      569 non-null    float64\n",
      " 12  12      569 non-null    float64\n",
      " 13  13      569 non-null    float64\n",
      " 14  14      569 non-null    float64\n",
      " 15  15      569 non-null    float64\n",
      " 16  16      569 non-null    float64\n",
      " 17  17      569 non-null    float64\n",
      " 18  18      569 non-null    float64\n",
      " 19  19      569 non-null    float64\n",
      " 20  20      569 non-null    float64\n",
      " 21  21      569 non-null    float64\n",
      " 22  22      569 non-null    float64\n",
      " 23  23      569 non-null    float64\n",
      " 24  24      569 non-null    float64\n",
      " 25  25      569 non-null    float64\n",
      " 26  26      569 non-null    float64\n",
      " 27  27      569 non-null    float64\n",
      " 28  28      569 non-null    float64\n",
      " 29  29      569 non-null    float64\n",
      " 30  30      569 non-null    float64\n",
      " 31  31      569 non-null    float64\n",
      "dtypes: float64(30), int64(1), object(1)\n",
      "memory usage: 142.4+ KB\n"
     ]
    }
   ],
   "source": [
    "dataset = pd.read_csv('wdbc.data',header = None)\n",
    "dataset.head(5)\n",
    "dataset.info()\n",
    "#Feature and Label selection to set x and y\n",
    "x = dataset.iloc[:, 2:].values\n",
    "y = dataset.iloc[:, 1].values\n",
    "\n",
    "labelencoder_x_1 = LabelEncoder()\n",
    "y = labelencoder_x_1.fit_transform(y)"
   ]
  },
  {
   "cell_type": "code",
   "execution_count": 8,
   "id": "ae9b311b",
   "metadata": {},
   "outputs": [],
   "source": [
    "dataset = [(x[i][None, ...], y[i]) for i in range(len(x))]"
   ]
  },
  {
   "cell_type": "code",
   "execution_count": 9,
   "id": "1256ee72",
   "metadata": {},
   "outputs": [],
   "source": [
    "W1 = np.random.rand(INPUT_DIM, H_DIM)\n",
    "b1 = np.random.rand(1, H_DIM)\n",
    "W2 = np.random.rand(H_DIM, OUT_DIM)\n",
    "b2 = np.random.rand(1, OUT_DIM)"
   ]
  },
  {
   "cell_type": "code",
   "execution_count": 10,
   "id": "f46aed37",
   "metadata": {},
   "outputs": [],
   "source": [
    "W1 = (W1 - 0.5) * 2 * np.sqrt(1/INPUT_DIM)\n",
    "b1 = (b1 - 0.5) * 2 * np.sqrt(1/INPUT_DIM)\n",
    "W2 = (W2 - 0.5) * 2 * np.sqrt(1/H_DIM)\n",
    "b2 = (b2 - 0.5) * 2 * np.sqrt(1/H_DIM)"
   ]
  },
  {
   "cell_type": "code",
   "execution_count": 11,
   "id": "1fc58539",
   "metadata": {},
   "outputs": [
    {
     "name": "stderr",
     "output_type": "stream",
     "text": [
      "/var/folders/8k/r1h0zb110_n__jrrs7cy28t80000gn/T/ipykernel_15306/2995731475.py:9: RuntimeWarning: overflow encountered in exp\n",
      "  return 1/(1+np.exp(-t))\n"
     ]
    }
   ],
   "source": [
    "\n",
    "loss_arr = []\n",
    "# teaching model\n",
    "for ep in range(NUM_EPOCHS):\n",
    "   \n",
    "    for i in range(len(dataset) // BATCH_SIZE):\n",
    "\n",
    "        batch_x, batch_y = zip(*dataset[i*BATCH_SIZE : i*BATCH_SIZE+BATCH_SIZE])\n",
    "        x = np.concatenate(batch_x, axis=0)\n",
    "        y = np.array(batch_y)\n",
    "\n",
    "        # Forward\n",
    "        t1 = x @ W1 + b1\n",
    "        h1 = sigmoid(t1)\n",
    "        t2 = h1 @ W2 + b2\n",
    "        z = sigmoid_batch(t2)\n",
    "        E = np.sum(sparse_cross_entropy_batch(z, y))\n",
    "\n",
    "        # Backward\n",
    "        y_full = one_hot_batch(y, OUT_DIM)\n",
    "        dE_dt2 = z - y_full\n",
    "        dE_dW2 = h1.T @ dE_dt2\n",
    "        dE_db2 = np.sum(dE_dt2, axis=0, keepdims=True)\n",
    "        dE_dh1 = dE_dt2 @ W2.T\n",
    "        dE_dt1 = dE_dh1 * sigmoid_deriv(t1)\n",
    "        dE_dW1 = x.T @ dE_dt1\n",
    "        dE_db1 = np.sum(dE_dt1, axis=0, keepdims=True)\n",
    "\n",
    "        # Update parametres\n",
    "        W1 = W1 - ALPHA * dE_dW1\n",
    "        b1 = b1 - ALPHA * dE_db1\n",
    "        W2 = W2 - ALPHA * dE_dW2\n",
    "        b2 = b2 - ALPHA * dE_db2\n",
    "\n",
    "        loss_arr.append(E)"
   ]
  },
  {
   "cell_type": "code",
   "execution_count": 12,
   "id": "17177647",
   "metadata": {},
   "outputs": [],
   "source": [
    "def predict(x):\n",
    "    t1 = x @ W1 + b1\n",
    "    h1 = relu(t1)\n",
    "    t2 = h1 @ W2 + b2\n",
    "    z = softmax_batch(t2)\n",
    "    return z"
   ]
  },
  {
   "cell_type": "markdown",
   "id": "2ec788f5",
   "metadata": {},
   "source": [
    "# Accuracy "
   ]
  },
  {
   "cell_type": "code",
   "execution_count": 13,
   "id": "081427f0",
   "metadata": {},
   "outputs": [],
   "source": [
    "def calc_accuracy():\n",
    "    correct = 0\n",
    "    for x, y in dataset:\n",
    "        z = predict(x)\n",
    "        y_pred = np.argmax(z)\n",
    "        if y_pred == y:\n",
    "            correct += 1\n",
    "    acc = correct / len(dataset)\n",
    "    return acc"
   ]
  },
  {
   "cell_type": "code",
   "execution_count": 14,
   "id": "8f7fccc0",
   "metadata": {
    "scrolled": true
   },
   "outputs": [
    {
     "name": "stderr",
     "output_type": "stream",
     "text": [
      "/var/folders/8k/r1h0zb110_n__jrrs7cy28t80000gn/T/ipykernel_6469/2995731475.py:19: RuntimeWarning: overflow encountered in exp\n",
      "  out = np.exp(t)\n",
      "/var/folders/8k/r1h0zb110_n__jrrs7cy28t80000gn/T/ipykernel_6469/2995731475.py:20: RuntimeWarning: invalid value encountered in true_divide\n",
      "  return out / np.sum(out, axis=1, keepdims=True)\n"
     ]
    },
    {
     "name": "stdout",
     "output_type": "stream",
     "text": [
      "Accuracy: 0.9173989455184535\n"
     ]
    },
    {
     "data": {
      "image/png": "[encoded data removed]",
      "text/plain": [
       "<Figure size 432x288 with 1 Axes>"
      ]
     },
     "metadata": {
      "needs_background": "light"
     },
     "output_type": "display_data"
    }
   ],
   "source": [
    "accuracy = calc_accuracy()\n",
    "print(\"Accuracy:\", accuracy)\n",
    "\n",
    "import matplotlib.pyplot as plt\n",
    "plt.plot(loss_arr)\n",
    "plt.show()"
   ]
  }
 ],
 "metadata": {
  "kernelspec": {
   "display_name": "Python 3 (ipykernel)",
   "language": "python",
   "name": "python3"
  },
  "language_info": {
   "codemirror_mode": {
    "name": "ipython",
    "version": 3
   },
   "file_extension": ".py",
   "mimetype": "text/x-python",
   "name": "python",
   "nbconvert_exporter": "python",
   "pygments_lexer": "ipython3",
   "version": "3.9.7"
  }
 },
 "nbformat": 4,
 "nbformat_minor": 5
}
