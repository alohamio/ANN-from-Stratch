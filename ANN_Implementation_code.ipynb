{
 "cells": [
  {
   "cell_type": "code",
   "execution_count": 30,
   "id": "e6d91cb9",
   "metadata": {},
   "outputs": [],
   "source": [
    "import random\n",
    "import numpy as np\n",
    "import pandas as pd\n",
    "from sklearn.preprocessing import LabelEncoder, StandardScaler"
   ]
  },
  {
   "cell_type": "markdown",
   "id": "47003eee",
   "metadata": {},
   "source": [
    "# INITIALIZING HYPERPARAMETERES"
   ]
  },
  {
   "cell_type": "code",
   "execution_count": 2,
   "id": "a6e2e5af",
   "metadata": {},
   "outputs": [],
   "source": [
    "ALPHA = 0.0001\n",
    "NUM_EPOCHS = 10000\n",
    "BATCH_SIZE = 15"
   ]
  },
  {
   "cell_type": "code",
   "execution_count": 3,
   "id": "68f92022",
   "metadata": {},
   "outputs": [],
   "source": [
    "INPUT_DIM = 30\n",
    "OUT_DIM = 2\n",
    "H_DIM = 64"
   ]
  },
  {
   "cell_type": "markdown",
   "id": "24d13c45",
   "metadata": {},
   "source": [
    "# ACTIVATION FUNCTIONS AND THEIR DERIVATIVES"
   ]
  },
  {
   "cell_type": "code",
   "execution_count": 4,
   "id": "4ed040aa",
   "metadata": {},
   "outputs": [],
   "source": [
    "def relu(t):\n",
    "    return np.maximum(t, 0)\n",
    "\n",
    "\n",
    "def relu_deriv(t):\n",
    "    return (t >= 0).astype(float)\n",
    "\n",
    "def sigmoid(t):\n",
    "    return 1/(1+np.exp(-t))\n",
    "\n",
    "def sigmoid_deriv(t):\n",
    "    return sigmoid(t)*(1-sigmoid(t))\n",
    "\n",
    "def softmax(t):\n",
    "    out = np.exp(t)\n",
    "    return out / np.sum(out)\n",
    "\n",
    "def softmax_batch(t):\n",
    "    out = np.exp(t)\n",
    "    return out / np.sum(out, axis=1, keepdims=True)\n",
    "\n",
    "\n",
    "def sigmoid_batch(t):\n",
    "    return 1/(1+np.exp(-t))\n",
    "\n",
    "def tanh(x):\n",
    "    return np.tanh(x);\n",
    "\n",
    "def grad_tanh(x):\n",
    "    return 1 - np.tanh(x) ** 2;\n"
   ]
  },
  {
   "cell_type": "markdown",
   "id": "5fdb1fa6",
   "metadata": {},
   "source": [
    "# LOSS FUNCTIONS"
   ]
  },
  {
   "cell_type": "code",
   "execution_count": 5,
   "id": "f22357ca",
   "metadata": {},
   "outputs": [],
   "source": [
    "def sparse_cross_entropy(z, y):\n",
    "              return -np.log(z[0, y])\n",
    "\n",
    "def sparse_cross_entropy_batch(z, y):\n",
    "              return -np.log(np.array([z[j, y[j]] for j in range(len(y))]))\n",
    "    \n",
    "def mse(z, y):\n",
    "    return np.mean(np.power(z[0, y], 2));\n"
   ]
  },
  {
   "cell_type": "code",
   "execution_count": 6,
   "id": "476924aa",
   "metadata": {},
   "outputs": [],
   "source": [
    "#ONE HOT ENCODING Y \n",
    "def one_hot(y, num_classes):\n",
    "    y_full = np.zeros((1, num_classes))\n",
    "    y_full[0, y] = 1\n",
    "    return y_full\n",
    "\n",
    "def one_hot_batch(y, num_classes):\n",
    "    y_full = np.zeros((len(y), num_classes))\n",
    "    for j, yj in enumerate(y):\n",
    "        y_full[j, yj] = 1\n",
    "    return y_full\n"
   ]
  },
  {
   "cell_type": "markdown",
   "id": "20e2c335",
   "metadata": {},
   "source": [
    "# INITIALIZING DATASET"
   ]
  },
  {
   "cell_type": "code",
   "execution_count": 7,
   "id": "923154a2",
   "metadata": {},
   "outputs": [
    {
     "name": "stdout",
     "output_type": "stream",
     "text": [
      "<class 'pandas.core.frame.DataFrame'>\n",
      "RangeIndex: 569 entries, 0 to 568\n",
      "Data columns (total 32 columns):\n",
      " #   Column  Non-Null Count  Dtype  \n",
      "---  ------  --------------  -----  \n",
      " 0   0       569 non-null    int64  \n",
      " 1   1       569 non-null    object \n",
      " 2   2       569 non-null    float64\n",
      " 3   3       569 non-null    float64\n",
      " 4   4       569 non-null    float64\n",
      " 5   5       569 non-null    float64\n",
      " 6   6       569 non-null    float64\n",
      " 7   7       569 non-null    float64\n",
      " 8   8       569 non-null    float64\n",
      " 9   9       569 non-null    float64\n",
      " 10  10      569 non-null    float64\n",
      " 11  11      569 non-null    float64\n",
      " 12  12      569 non-null    float64\n",
      " 13  13      569 non-null    float64\n",
      " 14  14      569 non-null    float64\n",
      " 15  15      569 non-null    float64\n",
      " 16  16      569 non-null    float64\n",
      " 17  17      569 non-null    float64\n",
      " 18  18      569 non-null    float64\n",
      " 19  19      569 non-null    float64\n",
      " 20  20      569 non-null    float64\n",
      " 21  21      569 non-null    float64\n",
      " 22  22      569 non-null    float64\n",
      " 23  23      569 non-null    float64\n",
      " 24  24      569 non-null    float64\n",
      " 25  25      569 non-null    float64\n",
      " 26  26      569 non-null    float64\n",
      " 27  27      569 non-null    float64\n",
      " 28  28      569 non-null    float64\n",
      " 29  29      569 non-null    float64\n",
      " 30  30      569 non-null    float64\n",
      " 31  31      569 non-null    float64\n",
      "dtypes: float64(30), int64(1), object(1)\n",
      "memory usage: 142.4+ KB\n"
     ]
    }
   ],
   "source": [
    "dataset = pd.read_csv('wdbc.data',header = None)\n",
    "dataset.head(5)\n",
    "dataset.info()\n",
    "#Feature and Label selection to set x and y\n",
    "x = dataset.iloc[:, 2:].values\n",
    "y = dataset.iloc[:, 1].values\n",
    "\n",
    "labelencoder_x_1 = LabelEncoder()\n",
    "y = labelencoder_x_1.fit_transform(y)"
   ]
  },
  {
   "cell_type": "code",
   "execution_count": 8,
   "id": "ae9b311b",
   "metadata": {},
   "outputs": [],
   "source": [
    "dataset = [(x[i][None, ...], y[i]) for i in range(len(x))]"
   ]
  },
  {
   "cell_type": "code",
   "execution_count": 9,
   "id": "1256ee72",
   "metadata": {},
   "outputs": [],
   "source": [
    "W1 = np.random.rand(INPUT_DIM, H_DIM)\n",
    "b1 = np.random.rand(1, H_DIM)\n",
    "W2 = np.random.rand(H_DIM, OUT_DIM)\n",
    "b2 = np.random.rand(1, OUT_DIM)"
   ]
  },
  {
   "cell_type": "code",
   "execution_count": 10,
   "id": "f46aed37",
   "metadata": {},
   "outputs": [],
   "source": [
    "W1 = (W1 - 0.5) * 2 * np.sqrt(1/INPUT_DIM)\n",
    "b1 = (b1 - 0.5) * 2 * np.sqrt(1/INPUT_DIM)\n",
    "W2 = (W2 - 0.5) * 2 * np.sqrt(1/H_DIM)\n",
    "b2 = (b2 - 0.5) * 2 * np.sqrt(1/H_DIM)"
   ]
  },
  {
   "cell_type": "code",
   "execution_count": 11,
   "id": "1fc58539",
   "metadata": {},
   "outputs": [
    {
     "name": "stderr",
     "output_type": "stream",
     "text": [
      "/var/folders/8k/r1h0zb110_n__jrrs7cy28t80000gn/T/ipykernel_15306/2995731475.py:9: RuntimeWarning: overflow encountered in exp\n",
      "  return 1/(1+np.exp(-t))\n"
     ]
    }
   ],
   "source": [
    "\n",
    "loss_arr = []\n",
    "# teaching model\n",
    "for ep in range(NUM_EPOCHS):\n",
    "   \n",
    "    for i in range(len(dataset) // BATCH_SIZE):\n",
    "\n",
    "        batch_x, batch_y = zip(*dataset[i*BATCH_SIZE : i*BATCH_SIZE+BATCH_SIZE])\n",
    "        x = np.concatenate(batch_x, axis=0)\n",
    "        y = np.array(batch_y)\n",
    "\n",
    "        # Forward\n",
    "        t1 = x @ W1 + b1\n",
    "        h1 = sigmoid(t1)\n",
    "        t2 = h1 @ W2 + b2\n",
    "        z = sigmoid_batch(t2)\n",
    "        E = np.sum(sparse_cross_entropy_batch(z, y))\n",
    "\n",
    "        # Backward\n",
    "        y_full = one_hot_batch(y, OUT_DIM)\n",
    "        dE_dt2 = z - y_full\n",
    "        dE_dW2 = h1.T @ dE_dt2\n",
    "        dE_db2 = np.sum(dE_dt2, axis=0, keepdims=True)\n",
    "        dE_dh1 = dE_dt2 @ W2.T\n",
    "        dE_dt1 = dE_dh1 * sigmoid_deriv(t1)\n",
    "        dE_dW1 = x.T @ dE_dt1\n",
    "        dE_db1 = np.sum(dE_dt1, axis=0, keepdims=True)\n",
    "\n",
    "        # Update parametres\n",
    "        W1 = W1 - ALPHA * dE_dW1\n",
    "        b1 = b1 - ALPHA * dE_db1\n",
    "        W2 = W2 - ALPHA * dE_dW2\n",
    "        b2 = b2 - ALPHA * dE_db2\n",
    "\n",
    "        loss_arr.append(E)"
   ]
  },
  {
   "cell_type": "code",
   "execution_count": 12,
   "id": "17177647",
   "metadata": {},
   "outputs": [],
   "source": [
    "def predict(x):\n",
    "    t1 = x @ W1 + b1\n",
    "    h1 = relu(t1)\n",
    "    t2 = h1 @ W2 + b2\n",
    "    z = softmax_batch(t2)\n",
    "    return z"
   ]
  },
  {
   "cell_type": "markdown",
   "id": "2ec788f5",
   "metadata": {},
   "source": [
    "# Accuracy "
   ]
  },
  {
   "cell_type": "code",
   "execution_count": 13,
   "id": "081427f0",
   "metadata": {},
   "outputs": [],
   "source": [
    "def calc_accuracy():\n",
    "    correct = 0\n",
    "    for x, y in dataset:\n",
    "        z = predict(x)\n",
    "        y_pred = np.argmax(z)\n",
    "        if y_pred == y:\n",
    "            correct += 1\n",
    "    acc = correct / len(dataset)\n",
    "    return acc"
   ]
  },
  {
   "cell_type": "code",
   "execution_count": 14,
   "id": "8f7fccc0",
   "metadata": {
    "scrolled": true
   },
   "outputs": [
    {
     "name": "stderr",
     "output_type": "stream",
     "text": [
      "/var/folders/8k/r1h0zb110_n__jrrs7cy28t80000gn/T/ipykernel_6469/2995731475.py:19: RuntimeWarning: overflow encountered in exp\n",
      "  out = np.exp(t)\n",
      "/var/folders/8k/r1h0zb110_n__jrrs7cy28t80000gn/T/ipykernel_6469/2995731475.py:20: RuntimeWarning: invalid value encountered in true_divide\n",
      "  return out / np.sum(out, axis=1, keepdims=True)\n"
     ]
    },
    {
     "name": "stdout",
     "output_type": "stream",
     "text": [
      "Accuracy: 0.9173989455184535\n"
     ]
    },
    {
     "data": {
      "image/png": "[encoded data removed]",
      "text/plain": [
       "<Figure size 432x288 with 1 Axes>"
      ]
     },
     "metadata": {
      "needs_background": "light"
     },
     "output_type": "display_data"
    }
   ],
   "source": [
    "accuracy = calc_accuracy()\n",
    "print(\"Accuracy:\", accuracy)\n",
    "\n",
    "import matplotlib.pyplot as plt\n",
    "plt.plot(loss_arr)\n",
    "plt.show()"
   ]
  },
  {
   "cell_type": "markdown",
   "id": "fb7695f5",
   "metadata": {},
   "source": [
    "# GA Optimization"
   ]
  },
  {
   "cell_type": "code",
   "execution_count": 14,
   "id": "4d9bc812",
   "metadata": {},
   "outputs": [],
   "source": [
    "def func(x):\n",
    "    return -np.abs(np.sin(x) - 0.5 * x)"
   ]
  },
  {
   "cell_type": "code",
   "execution_count": 15,
   "id": "50addccc",
   "metadata": {},
   "outputs": [],
   "source": [
    "\n",
    "def init(m, n):\n",
    "    return np.random.randint(2, size=(m,n))"
   ]
  },
  {
   "cell_type": "code",
   "execution_count": 16,
   "id": "53264b1c",
   "metadata": {},
   "outputs": [],
   "source": [
    "def decode(ss, a, b):\n",
    "    n = ss.shape[1]\n",
    "    x = []\n",
    "    for s in ss:\n",
    "        bin_to_int = np.array([int(j) << i for i,j in enumerate(s[::-1])]).sum()\n",
    "        int_to_x = a + bin_to_int * (b - a) / (2**n - 1)\n",
    "        x.append(int_to_x)\n",
    "    return np.array(x)"
   ]
  },
  {
   "cell_type": "code",
   "execution_count": 17,
   "id": "3f11a7d2",
   "metadata": {},
   "outputs": [],
   "source": [
    "def selection(pop, sample_size, fitness):\n",
    "    m,n = pop.shape\n",
    "    new_pop = pop.copy()\n",
    "        \n",
    "    for i in range(m):\n",
    "        rand_id = np.random.choice(m, size=max(1, int(sample_size*m)), replace=False)\n",
    "        max_id = rand_id[fitness[rand_id].argmax()]\n",
    "        new_pop[i] = pop[max_id].copy()\n",
    "    \n",
    "    return new_pop"
   ]
  },
  {
   "cell_type": "code",
   "execution_count": 18,
   "id": "7e9274ba",
   "metadata": {},
   "outputs": [],
   "source": [
    "def crossover(pop, pc):\n",
    "    m,n = pop.shape\n",
    "    new_pop = pop.copy()\n",
    "    \n",
    "    for i in range(0, m-1, 2):\n",
    "        if np.random.uniform(0, 1) < pc:\n",
    "            pos = np.random.randint(0, n-1)\n",
    "            new_pop[i, pos+1:] = pop[i+1, pos+1:].copy()\n",
    "            new_pop[i+1, pos+1:] = pop[i, pos+1:].copy()\n",
    "            \n",
    "    return new_pop"
   ]
  },
  {
   "cell_type": "code",
   "execution_count": 19,
   "id": "7cfdf4f0",
   "metadata": {},
   "outputs": [],
   "source": [
    "def mutation(pop, pm):\n",
    "    m,n = pop.shape\n",
    "    new_pop = pop.copy()\n",
    "    mutation_prob = (np.random.uniform(0, 1, size=(m,n)) < pm).astype(int)\n",
    "    return (mutation_prob + new_pop) % 2"
   ]
  },
  {
   "cell_type": "code",
   "execution_count": 20,
   "id": "d278c59a",
   "metadata": {},
   "outputs": [],
   "source": [
    "def print_result(gen_num, pop, fitness, x):\n",
    "    m = pop.shape[0]\n",
    "    print('=' * 68)\n",
    "    print(f'Generation {gen_num} max fitness {fitness.max():0.4f} at x = {x[fitness.argmax()]:0.4f}')\n",
    "    \n",
    "    for i in range(m):\n",
    "        print(f'# {i+1}\\t{pop[i]}   fitness: {fitness[i]:0.4f}')\n",
    "    \n",
    "    print(f'Average fitness: {fitness.mean():0.4f}')\n",
    "    print('=' * 68, '\\n')"
   ]
  },
  {
   "cell_type": "code",
   "execution_count": 21,
   "id": "a320746b",
   "metadata": {},
   "outputs": [],
   "source": [
    "def GeneticAlgorithm(func, pop_size, str_size, low, high, \n",
    "                     ps=0.2, pc=1.0, pm=0.1, max_iter=1000, eps=1e-5, random_state=None):\n",
    "    \n",
    "    np.random.seed(random_state)\n",
    "    pop = init(pop_size, str_size)\n",
    "    x = decode(pop, low, high)\n",
    "    fitness = func(x)\n",
    "    best = [fitness.max()]\n",
    "    print_result(1, pop, fitness, x)\n",
    "    \n",
    "    i = 0\n",
    "    while i < max_iter and abs(best[-1]) > eps:\n",
    "        pop = selection(pop, ps, fitness)\n",
    "        pop = crossover(pop, pc)\n",
    "        pop = mutation(pop, pm)\n",
    "        x = decode(pop, low, high)\n",
    "        fitness = func(x)\n",
    "        best.append(fitness.max())\n",
    "        i += 1\n",
    "    \n",
    "    print_result(i, pop, fitness, x)\n",
    "    \n",
    "    if i == max_iter:\n",
    "        print(i, 'maximum iteration reached!')\n",
    "        print('Solution not found. Try increasing max_iter for better result.')\n",
    "    else:\n",
    "        print('Solution found at iteration', i)\n",
    "        \n",
    "    return fitness, x, best, i, pop_size"
   ]
  },
  {
   "cell_type": "code",
   "execution_count": 22,
   "id": "1c5e5ac7",
   "metadata": {},
   "outputs": [],
   "source": [
    "import matplotlib.pyplot as plt"
   ]
  },
  {
   "cell_type": "code",
   "execution_count": 23,
   "id": "c4dd792e",
   "metadata": {},
   "outputs": [],
   "source": [
    "def plot_result(func, fs, xs, best, i, m):\n",
    "    xval = np.arange(1, 3, 0.01)\n",
    "    yval = func(xval)\n",
    "    plt.figure(figsize=(10,5))\n",
    "    \n",
    "    plt.subplot(121)\n",
    "    plt.plot(xval, yval, color='m')\n",
    "    plt.scatter(xs, fs, alpha=0.50)\n",
    "    plt.xlim((1,3))\n",
    "    plt.xlabel('$x$')\n",
    "    plt.ylabel('$f(x) = -|sin(x) - 0.5x|$')\n",
    "    plt.title('Population at Iteration ' + str(i) + '\\n' + \\\n",
    "              'Number of Individuals: ' + str(m))\n",
    "    \n",
    "    plt.subplot(122)\n",
    "    plt.plot(best, color='c')\n",
    "    plt.xlim(0)\n",
    "    plt.xlabel('Iteration')\n",
    "    plt.ylabel('Best Fitness')\n",
    "    plt.title('Best Fitness vs Iteration' + '\\n' + \\\n",
    "              'Number of Individuals: ' + str(m))\n",
    "    \n",
    "    plt.tight_layout()\n",
    "    plt.show()"
   ]
  },
  {
   "cell_type": "code",
   "execution_count": 24,
   "id": "24dc5d8c",
   "metadata": {},
   "outputs": [
    {
     "name": "stdout",
     "output_type": "stream",
     "text": [
      "====================================================================\n",
      "Generation 1 max fitness -0.0174 at x = 1.9165\n",
      "# 1\t[0 1 1 1 0 1 0 1 0 1 0 1 0 0 0 0 1 0 0 1]   fitness: -0.0174\n",
      "# 2\t[1 1 0 1 0 0 1 1 0 0 1 1 0 1 0 1 1 1 0 0]   fitness: -0.8531\n",
      "# 3\t[1 1 0 1 0 0 0 1 0 1 1 1 0 1 0 1 0 1 0 1]   fitness: -0.8342\n",
      "# 4\t[1 0 1 0 1 0 1 0 1 0 0 1 0 1 0 1 0 0 1 1]   fitness: -0.4428\n",
      "# 5\t[1 1 1 0 0 1 0 0 1 0 1 1 0 1 1 1 0 1 1 1]   fitness: -1.0461\n",
      "# 6\t[1 1 1 0 1 1 1 0 1 1 0 1 1 1 1 1 1 0 1 0]   fitness: -1.1612\n",
      "# 7\t[0 1 0 1 0 1 0 0 0 1 0 1 1 0 0 1 1 1 1 0]   fitness: -0.1666\n",
      "# 8\t[0 1 0 0 1 0 0 1 1 0 1 0 1 0 0 1 1 0 1 1]   fitness: -0.2122\n",
      "# 9\t[0 1 0 1 1 0 0 1 1 1 1 0 0 1 0 1 1 1 1 1]   fitness: -0.1402\n",
      "# 10\t[0 0 0 0 0 0 0 0 1 1 1 1 0 1 0 1 1 0 1 0]   fitness: -0.3417\n",
      "# 11\t[0 1 0 1 1 0 1 0 0 1 0 0 0 0 1 1 1 0 1 0]   fitness: -0.1384\n",
      "# 12\t[0 0 1 0 1 1 1 1 1 1 1 1 0 1 1 1 0 1 1 0]   fitness: -0.2935\n",
      "# 13\t[0 1 0 1 1 1 1 0 0 1 0 1 1 0 0 0 1 1 0 0]   fitness: -0.1177\n",
      "# 14\t[1 1 0 1 1 0 1 1 1 1 1 0 1 1 0 0 1 1 0 0]   fitness: -0.9482\n",
      "# 15\t[0 1 1 0 1 1 1 1 1 0 0 0 0 1 1 0 0 0 1 1]   fitness: -0.0196\n",
      "Average fitness: -0.4489\n",
      "==================================================================== \n",
      "\n",
      "====================================================================\n",
      "Generation 27 max fitness -0.0000 at x = 1.8955\n",
      "# 1\t[0 1 1 1 0 0 1 0 1 0 0 1 1 0 1 0 0 0 0 1]   fitness: -0.0001\n",
      "# 2\t[0 1 1 0 0 0 1 0 0 0 0 1 1 0 0 1 0 0 1 1]   fitness: -0.0977\n",
      "# 3\t[0 1 1 1 0 1 1 1 0 1 1 1 1 1 1 1 0 1 1 1]   fitness: -0.0319\n",
      "# 4\t[0 1 1 1 0 0 1 0 0 1 0 1 1 0 1 1 0 1 1 0]   fitness: -0.0017\n",
      "# 5\t[0 0 1 1 0 0 1 0 0 0 1 1 1 0 1 1 0 0 0 1]   fitness: -0.2879\n",
      "# 6\t[0 1 1 1 0 0 0 0 0 1 1 1 1 0 1 1 0 0 1 0]   fitness: -0.0136\n",
      "# 7\t[0 1 1 1 0 0 0 0 1 0 1 1 1 1 1 1 0 1 0 1]   fitness: -0.0119\n",
      "# 8\t[0 1 1 1 0 0 1 0 0 1 1 1 1 1 1 1 1 1 0 1]   fitness: -0.0008\n",
      "# 9\t[1 1 1 1 0 0 1 0 0 0 1 1 1 0 1 1 1 0 0 0]   fitness: -1.1996\n",
      "# 10\t[0 1 1 0 0 0 1 1 1 1 1 1 1 0 1 1 1 1 1 0]   fitness: -0.0874\n",
      "# 11\t[1 1 1 1 0 1 1 0 0 1 1 1 1 0 1 1 0 1 1 0]   fitness: -1.2485\n",
      "# 12\t[0 1 1 1 0 0 1 0 0 1 1 1 0 0 0 1 1 1 0 0]   fitness: -0.0011\n",
      "# 13\t[0 1 1 1 0 0 1 0 1 0 0 1 1 1 1 1 1 0 1 0]   fitness: -0.0000\n",
      "# 14\t[0 0 1 1 0 0 0 0 0 1 1 1 1 0 0 0 1 1 1 1]   fitness: -0.2923\n",
      "# 15\t[0 1 1 1 0 0 1 0 0 1 1 1 0 0 1 1 1 1 0 1]   fitness: -0.0011\n",
      "Average fitness: -0.2184\n",
      "==================================================================== \n",
      "\n",
      "Solution found at iteration 27\n"
     ]
    },
    {
     "data": {
      "image/png": "[encoded data removed]",
      "text/plain": [
       "<Figure size 720x360 with 2 Axes>"
      ]
     },
     "metadata": {
      "needs_background": "light"
     },
     "output_type": "display_data"
    }
   ],
   "source": [
    "fs, xs, best, i, m = GeneticAlgorithm(func, pop_size=15, str_size=20, low=1, high=3, random_state=69)\n",
    "plot_result(func, fs, xs, best, i, m)"
   ]
  },
  {
   "cell_type": "code",
   "execution_count": null,
   "id": "ef8b9f45",
   "metadata": {},
   "outputs": [],
   "source": []
  },
  {
   "cell_type": "code",
   "execution_count": null,
   "id": "8b8b3f68",
   "metadata": {},
   "outputs": [],
   "source": []
  },
  {
   "cell_type": "code",
   "execution_count": 25,
   "id": "2abdd819",
   "metadata": {},
   "outputs": [],
   "source": [
    "def mat_to_vector(mat_pop_weights):\n",
    "     pop_weights_vector = []\n",
    "     for sol_idx in range(mat_pop_weights.shape[0]):\n",
    "         curr_vector = []\n",
    "         for layer_idx in range(mat_pop_weights.shape[1]):\n",
    "             vector_weights = numpy.reshape(mat_pop_weights[sol_idx, layer_idx], newshape=(mat_pop_weights[sol_idx, layer_idx].size))\n",
    "             curr_vector.extend(vector_weights)\n",
    "         pop_weights_vector.append(curr_vector)\n",
    "     return numpy.array(pop_weights_vector)"
   ]
  },
  {
   "cell_type": "code",
   "execution_count": 26,
   "id": "f5813037",
   "metadata": {},
   "outputs": [],
   "source": [
    "def vector_to_mat(vector_pop_weights, mat_pop_weights):\n",
    "    mat_weights = []\n",
    "    for sol_idx in range(mat_pop_weights.shape[0]):\n",
    "        start = 0\n",
    "        end = 0\n",
    "        for layer_idx in range(mat_pop_weights.shape[1]):\n",
    "            end = end + mat_pop_weights[sol_idx, layer_idx].size\n",
    "            curr_vector = vector_pop_weights[sol_idx, start:end]\n",
    "            mat_layer_weights = numpy.reshape(curr_vector, newshape=(mat_pop_weights[sol_idx, layer_idx].shape))\n",
    "            mat_weights.append(mat_layer_weights)\n",
    "            start = end\n",
    "    return numpy.reshape(mat_weights, newshape=mat_pop_weights.shape)"
   ]
  },
  {
   "cell_type": "code",
   "execution_count": 27,
   "id": "23505ed2",
   "metadata": {},
   "outputs": [],
   "source": [
    "sol_per_pop = 8\n",
    "num_parents_mating = 4\n",
    "num_generations = 1000\n",
    "mutation_percent = 10\n"
   ]
  },
  {
   "cell_type": "code",
   "execution_count": 34,
   "id": "1e875c24",
   "metadata": {},
   "outputs": [
    {
     "ename": "AttributeError",
     "evalue": "'list' object has no attribute 'shape'",
     "output_type": "error",
     "traceback": [
      "\u001b[0;31m---------------------------------------------------------------------------\u001b[0m",
      "\u001b[0;31mAttributeError\u001b[0m                            Traceback (most recent call last)",
      "\u001b[0;32m/var/folders/8k/r1h0zb110_n__jrrs7cy28t80000gn/T/ipykernel_15306/1265404596.py\u001b[0m in \u001b[0;36m<module>\u001b[0;34m\u001b[0m\n\u001b[0;32m----> 1\u001b[0;31m \u001b[0mdataset\u001b[0m\u001b[0;34m.\u001b[0m\u001b[0mshape\u001b[0m\u001b[0;34m(\u001b[0m\u001b[0;34m)\u001b[0m\u001b[0;34m\u001b[0m\u001b[0;34m\u001b[0m\u001b[0m\n\u001b[0m",
      "\u001b[0;31mAttributeError\u001b[0m: 'list' object has no attribute 'shape'"
     ]
    }
   ],
   "source": [
    "dataset.shape()"
   ]
  },
  {
   "cell_type": "code",
   "execution_count": 32,
   "id": "9252745a",
   "metadata": {},
   "outputs": [
    {
     "ename": "AttributeError",
     "evalue": "'list' object has no attribute 'shape'",
     "output_type": "error",
     "traceback": [
      "\u001b[0;31m---------------------------------------------------------------------------\u001b[0m",
      "\u001b[0;31mAttributeError\u001b[0m                            Traceback (most recent call last)",
      "\u001b[0;32m/var/folders/8k/r1h0zb110_n__jrrs7cy28t80000gn/T/ipykernel_15306/3153951606.py\u001b[0m in \u001b[0;36m<module>\u001b[0;34m\u001b[0m\n\u001b[1;32m      2\u001b[0m \u001b[0;32mfor\u001b[0m \u001b[0mcurr_sol\u001b[0m \u001b[0;32min\u001b[0m \u001b[0mnp\u001b[0m\u001b[0;34m.\u001b[0m\u001b[0marange\u001b[0m\u001b[0;34m(\u001b[0m\u001b[0;36m0\u001b[0m\u001b[0;34m,\u001b[0m \u001b[0msol_per_pop\u001b[0m\u001b[0;34m)\u001b[0m\u001b[0;34m:\u001b[0m\u001b[0;34m\u001b[0m\u001b[0;34m\u001b[0m\u001b[0m\n\u001b[1;32m      3\u001b[0m     \u001b[0mHL1_neurons\u001b[0m \u001b[0;34m=\u001b[0m \u001b[0;36m150\u001b[0m\u001b[0;34m\u001b[0m\u001b[0;34m\u001b[0m\u001b[0m\n\u001b[0;32m----> 4\u001b[0;31m     \u001b[0minput_HL1_weights\u001b[0m \u001b[0;34m=\u001b[0m \u001b[0mnp\u001b[0m\u001b[0;34m.\u001b[0m\u001b[0mrandom\u001b[0m\u001b[0;34m.\u001b[0m\u001b[0muniform\u001b[0m\u001b[0;34m(\u001b[0m\u001b[0mlow\u001b[0m\u001b[0;34m=\u001b[0m\u001b[0;34m-\u001b[0m\u001b[0;36m0.1\u001b[0m\u001b[0;34m,\u001b[0m \u001b[0mhigh\u001b[0m\u001b[0;34m=\u001b[0m\u001b[0;36m0.1\u001b[0m\u001b[0;34m,\u001b[0m \u001b[0msize\u001b[0m\u001b[0;34m=\u001b[0m\u001b[0;34m(\u001b[0m\u001b[0mdataset\u001b[0m\u001b[0;34m.\u001b[0m\u001b[0mshape\u001b[0m\u001b[0;34m[\u001b[0m\u001b[0;36m1\u001b[0m\u001b[0;34m]\u001b[0m\u001b[0;34m,\u001b[0m \u001b[0mHL1_neurons\u001b[0m\u001b[0;34m)\u001b[0m\u001b[0;34m)\u001b[0m\u001b[0;34m\u001b[0m\u001b[0;34m\u001b[0m\u001b[0m\n\u001b[0m",
      "\u001b[0;31mAttributeError\u001b[0m: 'list' object has no attribute 'shape'"
     ]
    }
   ],
   "source": [
    "initial_pop_weights = []\n",
    "for curr_sol in np.arange(0, sol_per_pop):\n",
    "    HL1_neurons = 150\n",
    "    input_HL1_weights = np.random.uniform(low=-0.1, high=0.1, size=(dataset.shape[1], HL1_neurons))"
   ]
  },
  {
   "cell_type": "code",
   "execution_count": null,
   "id": "7b789a65",
   "metadata": {},
   "outputs": [],
   "source": []
  }
 ],
 "metadata": {
  "kernelspec": {
   "display_name": "Python 3 (ipykernel)",
   "language": "python",
   "name": "python3"
  },
  "language_info": {
   "codemirror_mode": {
    "name": "ipython",
    "version": 3
   },
   "file_extension": ".py",
   "mimetype": "text/x-python",
   "name": "python",
   "nbconvert_exporter": "python",
   "pygments_lexer": "ipython3",
   "version": "3.9.7"
  }
 },
 "nbformat": 4,
 "nbformat_minor": 5
}
